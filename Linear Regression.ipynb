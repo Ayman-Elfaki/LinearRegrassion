{
 "cells": [
  {
   "cell_type": "markdown",
   "metadata": {},
   "source": [
    "# Linear Regression\n",
    "## Approxmiation\n",
    "\n",
    "Y = M * X + B\n",
    "\n",
    "## Cost Function\n",
    "MSE = j(M,B) = Sum((Ypred - Y)^2)/N "
   ]
  },
  {
   "cell_type": "code",
   "execution_count": 1,
   "metadata": {},
   "source": [
    "#r \"nuget:MathNet.Numerics,4.12.0\""
   ],
   "outputs": [
    {
     "output_type": "execute_result",
     "data": {
      "text/plain": "Installed package MathNet.Numerics version 4.12.0"
     },
     "execution_count": 1,
     "metadata": {}
    }
   ]
  },
  {
   "cell_type": "code",
   "execution_count": 1,
   "metadata": {},
   "source": [
    "using MathNet;\n",
    "using MathNet.Numerics;\n",
    "using XPlot.Plotly;"
   ],
   "outputs": []
  },
  {
   "cell_type": "code",
   "execution_count": 1,
   "metadata": {},
   "source": [
    "var xData = new decimal[] { 1, 2, 3, 4, 5 };\n",
    "var yData = new decimal[] { 3, 4, 2, 4, 5 };\n",
    "\n",
    "var xDeltaSquare = xData.Select(v => v - xData.Average()).Select(v => v * v).ToArray();\n",
    "var yDelta = yData.Select(v => v - yData.Average()).ToArray();\n",
    "\n",
    "var xyDelta = xData.Select(v => v - xData.Average()).Zip(yData.Select(v => v - yData.Average()), (x,y)=> x *y).ToArray();\n",
    "\n",
    "var m = xyDelta.Sum()/xDeltaSquare.Sum();\n",
    "var b = yData.Average() - xData.Average() * m;\n",
    "\n",
    "display((xData, yData, xDeltaSquare, yDelta, xyDelta));\n",
    "display($\"Slope = {m},Intercept = {b}, X mean = {xData.Average()}, Y mean = {yData.Average()}, X delta square Sum = {xDeltaSquare.Sum()}, X detla * y delta Sum = {xyDelta.Sum()}\");"
   ],
   "outputs": [
    {
     "output_type": "execute_result",
     "data": {
      "text/html": "<table><thead><tr><th>Item1</th><th>Item2</th><th>Item3</th><th>Item4</th><th>Item5</th></tr></thead><tbody><tr><td><div class=\"dni-plaintext\">[ 1, 2, 3, 4, 5 ]</div></td><td><div class=\"dni-plaintext\">[ 3, 4, 2, 4, 5 ]</div></td><td><div class=\"dni-plaintext\">[ 4, 1, 0, 1, 4 ]</div></td><td><div class=\"dni-plaintext\">[ -0.6, 0.4, -1.6, 0.4, 1.4 ]</div></td><td><div class=\"dni-plaintext\">[ 1.2, -0.4, 0.0, 0.4, 2.8 ]</div></td></tr></tbody></table>"
     },
     "execution_count": 1,
     "metadata": {}
    },
    {
     "output_type": "execute_result",
     "data": {
      "text/plain": "Slope = 0.4,Intercept = 2.4, X mean = 3, Y mean = 3.6, X delta square Sum = 10, X detla * y delta Sum = 4.0"
     },
     "execution_count": 1,
     "metadata": {}
    }
   ]
  },
  {
   "cell_type": "markdown",
   "metadata": {},
   "source": [
    "![](LR.png)"
   ]
  },
  {
   "cell_type": "code",
   "execution_count": 1,
   "metadata": {},
   "source": [
    "\n",
    "var data = new Graph.Scatter()\n",
    "{\n",
    "    x = xData,\n",
    "    y = yData,\n",
    "    name = \"Data\",\n",
    "    mode = \"markers\",\n",
    "    marker = new Graph.Marker()\n",
    "    {\n",
    "        size = 13\n",
    "    }\n",
    "};\n",
    "var yPred = xData.Select(x => m*x ).Select(r => r + b);\n",
    "var line = new Graph.Scatter()\n",
    "{\n",
    "    x = xData,\n",
    "    y = yPred,\n",
    "    name = \"Prediction\",\n",
    "    mode = \"lines+markers\",\n",
    "    marker = new Graph.Marker()\n",
    "    {\n",
    "        size = 13\n",
    "    }\n",
    "};\n",
    "\n",
    "display(yPred);\n",
    "\n",
    "Chart.Plot(new []{ data, line })"
   ],
   "outputs": [
    {
     "output_type": "execute_result",
     "data": {
      "text/html": "<table><thead><tr><th><i>index</i></th><th>value</th></tr></thead><tbody><tr><td>0</td><td><div class=\"dni-plaintext\">2.8</div></td></tr><tr><td>1</td><td><div class=\"dni-plaintext\">3.2</div></td></tr><tr><td>2</td><td><div class=\"dni-plaintext\">3.6</div></td></tr><tr><td>3</td><td><div class=\"dni-plaintext\">4.0</div></td></tr><tr><td>4</td><td><div class=\"dni-plaintext\">4.4</div></td></tr></tbody></table>"
     },
     "execution_count": 1,
     "metadata": {}
    },
    {
     "output_type": "execute_result",
     "data": {
      "text/html": "<div id=\"35f5e88c-b3af-4ce4-9aa2-f55061709869\" style=\"width: 900px; height: 500px;\"></div>\r\n<script type=\"text/javascript\">\r\n\r\nvar renderPlotly = function() {\r\n    var xplotRequire = require.config({context:'xplot-3.0.1',paths:{plotly:'https://cdn.plot.ly/plotly-1.49.2.min'}}) || require;\r\n    xplotRequire(['plotly'], function(Plotly) {\r\n\n            var data = [{\"type\":\"scatter\",\"x\":[1.0,2.0,3.0,4.0,5.0],\"y\":[3.0,4.0,2.0,4.0,5.0],\"mode\":\"markers\",\"marker\":{\"size\":13},\"name\":\"Data\"},{\"type\":\"scatter\",\"x\":[1.0,2.0,3.0,4.0,5.0],\"y\":[2.8,3.2,3.6,4.0,4.4],\"mode\":\"lines+markers\",\"marker\":{\"size\":13},\"name\":\"Prediction\"}];\n            var layout = \"\";\n            Plotly.newPlot('35f5e88c-b3af-4ce4-9aa2-f55061709869', data, layout);\n        \r\n});\r\n};\r\n// ensure `require` is available globally\r\nif ((typeof(require) !==  typeof(Function)) || (typeof(require.config) !== typeof(Function))) {\r\n    let require_script = document.createElement('script');\r\n    require_script.setAttribute('src', 'https://cdnjs.cloudflare.com/ajax/libs/require.js/2.3.6/require.min.js');\r\n    require_script.setAttribute('type', 'text/javascript');\r\n    \r\n    \r\n    require_script.onload = function() {\r\n        renderPlotly();\r\n    };\r\n\r\n    document.getElementsByTagName('head')[0].appendChild(require_script);\r\n}\r\nelse {\r\n    renderPlotly();\r\n}\r\n\r\n</script>\r\n"
     },
     "execution_count": 1,
     "metadata": {}
    }
   ]
  },
  {
   "cell_type": "code",
   "execution_count": 1,
   "metadata": {},
   "source": [
    "var rSquared = yPred.Select(y => y - yData.Average()).Select(y => y * y).Sum() / yData.Select(y => y - yData.Average()).Select(y => y * y).Sum();\n",
    "display($\"R Squared = {rSquared}\")"
   ],
   "outputs": [
    {
     "output_type": "execute_result",
     "data": {
      "text/plain": "R Squared = 0.3076923076923076923076923077"
     },
     "execution_count": 1,
     "metadata": {}
    }
   ]
  },
  {
   "cell_type": "markdown",
   "metadata": {},
   "source": [
    "![](LRRR.png)"
   ]
  },
  {
   "cell_type": "code",
   "execution_count": 1,
   "metadata": {},
   "source": [
    ""
   ],
   "outputs": []
  }
 ],
 "metadata": {
  "kernelspec": {
   "display_name": ".NET (C#)",
   "language": "C#",
   "name": ".net-csharp"
  },
  "language_info": {
   "file_extension": ".cs",
   "mimetype": "text/x-csharp",
   "name": "C#",
   "pygments_lexer": "csharp",
   "version": "8.0"
  }
 },
 "nbformat": 4,
 "nbformat_minor": 4
}